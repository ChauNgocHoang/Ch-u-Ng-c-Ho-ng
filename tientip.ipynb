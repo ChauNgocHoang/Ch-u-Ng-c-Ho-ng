{
  "nbformat": 4,
  "nbformat_minor": 0,
  "metadata": {
    "colab": {
      "provenance": [],
      "authorship_tag": "ABX9TyMM1dZmwi/m2fLp9m4MEr/h",
      "include_colab_link": true
    },
    "kernelspec": {
      "name": "python3",
      "display_name": "Python 3"
    },
    "language_info": {
      "name": "python"
    }
  },
  "cells": [
    {
      "cell_type": "markdown",
      "metadata": {
        "id": "view-in-github",
        "colab_type": "text"
      },
      "source": [
        "<a href=\"https://colab.research.google.com/github/ChauNgocHoang/Chau-Ngoc-Hoang/blob/main/tientip.ipynb\" target=\"_parent\"><img src=\"https://colab.research.google.com/assets/colab-badge.svg\" alt=\"Open In Colab\"/></a>"
      ]
    },
    {
      "cell_type": "code",
      "source": [
        "pip install -U scikit-fuzzy"
      ],
      "metadata": {
        "id": "5vC_lJBQZn3f",
        "outputId": "79f3f0e2-0651-4460-d731-c32b9bb1bb18",
        "colab": {
          "base_uri": "https://localhost:8080/"
        }
      },
      "execution_count": null,
      "outputs": [
        {
          "output_type": "stream",
          "name": "stdout",
          "text": [
            "Looking in indexes: https://pypi.org/simple, https://us-python.pkg.dev/colab-wheels/public/simple/\n",
            "Collecting scikit-fuzzy\n",
            "  Downloading scikit-fuzzy-0.4.2.tar.gz (993 kB)\n",
            "\u001b[K     |████████████████████████████████| 993 kB 9.3 MB/s \n",
            "\u001b[?25hRequirement already satisfied: numpy>=1.6.0 in /usr/local/lib/python3.7/dist-packages (from scikit-fuzzy) (1.21.6)\n",
            "Requirement already satisfied: scipy>=0.9.0 in /usr/local/lib/python3.7/dist-packages (from scikit-fuzzy) (1.7.3)\n",
            "Requirement already satisfied: networkx>=1.9.0 in /usr/local/lib/python3.7/dist-packages (from scikit-fuzzy) (2.6.3)\n",
            "Building wheels for collected packages: scikit-fuzzy\n",
            "  Building wheel for scikit-fuzzy (setup.py) ... \u001b[?25l\u001b[?25hdone\n",
            "  Created wheel for scikit-fuzzy: filename=scikit_fuzzy-0.4.2-py3-none-any.whl size=894089 sha256=a12782ed8220261665aeb91942f44a31f0d8970e36aef83cf1fb5dc912bc3600\n",
            "  Stored in directory: /root/.cache/pip/wheels/d5/74/fc/38588a3d2e3f34f74588e6daa3aa5b0a322bd6f9420a707131\n",
            "Successfully built scikit-fuzzy\n",
            "Installing collected packages: scikit-fuzzy\n",
            "Successfully installed scikit-fuzzy-0.4.2\n"
          ]
        }
      ]
    },
    {
      "cell_type": "code",
      "execution_count": null,
      "metadata": {
        "colab": {
          "base_uri": "https://localhost:8080/",
          "height": 298
        },
        "id": "ZK6cx-LYZdxF",
        "outputId": "438ef280-155e-4e6b-b9a2-9f551c312503"
      },
      "outputs": [
        {
          "output_type": "stream",
          "name": "stdout",
          "text": [
            "10.408333333333335\n"
          ]
        },
        {
          "output_type": "display_data",
          "data": {
            "text/plain": [
              "<Figure size 432x288 with 1 Axes>"
            ],
            "image/png": "[encoded data removed]"
          },
          "metadata": {
            "needs_background": "light"
          }
        }
      ],
      "source": [
        "import numpy as np\n",
        "import skfuzzy as fuzz\n",
        "from skfuzzy import control as ctrl\n",
        "food = ctrl.Antecedent(np.arange(0,20,1),'food')\n",
        "service = ctrl.Antecedent(np.arange(0,11,1), 'service')\n",
        "tip = ctrl.Consequent(np.arange(10,26,1), 'tip')\n",
        "food ['poor'] = fuzz.trimf(food.universe,[0,0,5])\n",
        "food ['arange']=  fuzz.trimf(food.universe,[0,5,10])\n",
        "food ['good']= fuzz.trimf(food.universe,[5,10,10])\n",
        "service ['poor'] = fuzz.trimf(service.universe,[0,0,5])\n",
        "service ['arange'] = fuzz.trimf(service.universe,[0,5,10])\n",
        "service ['good'] = fuzz.trimf(service.universe,[5,10,10])\n",
        "tip ['less'] = fuzz.trimf(tip.universe,[0,0,5])\n",
        "tip ['normal'] = fuzz.trimf(tip.universe,[0,5,10])\n",
        "tip ['much'] = fuzz.trimf(tip.universe,[5,10,10])\n",
        "rule1 = ctrl.Rule(food['poor']&service['poor'],tip['less'])\n",
        "rule2 = ctrl.Rule(food['arange']&service['arange'],tip['normal'])\n",
        "rule3 = ctrl.Rule(food['good']&service['good'],tip['much'])\n",
        "rule4 = ctrl.Rule(food['poor']&service['poor'],tip['normal'])\n",
        "rule5 = ctrl.Rule(food['poor']&service['poor'],tip['much'])\n",
        "rule6 = ctrl.Rule(food['arange']&service['arange'],tip['less'])\n",
        "rule7 = ctrl.Rule(food['arange']&service['arange'],tip['much'])\n",
        "rule8 = ctrl.Rule(food['good']&service['good'],tip['less'])\n",
        "rule9 = ctrl.Rule(food['good']&service['good'],tip['normal'])\n",
        "tipping_ctrl = ctrl.ControlSystem([rule1,rule2,rule3,rule4,rule5,rule6,rule7,rule8,rule9])\n",
        "tipping = ctrl.ControlSystemSimulation(tipping_ctrl)\n",
        "tipping.input['food']= 8\n",
        "tipping.input['service']= 3\n",
        "tipping.compute()\n",
        "print(tipping.output['tip'])\n",
        "tip.view(sim=tipping)"
      ]
    }
  ]
}